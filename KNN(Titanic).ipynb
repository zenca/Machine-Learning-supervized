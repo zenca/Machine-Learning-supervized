{
 "cells": [
  {
   "cell_type": "code",
   "execution_count": 2,
   "id": "cc7a3279",
   "metadata": {},
   "outputs": [],
   "source": [
    "import pandas as pd\n",
    "import numpy as np\n",
    "import matplotlib.pyplot as plt\n",
    "import seaborn as sns\n",
    "from matplotlib.colors import ListedColormap\n",
    "import matplotlib.patches as mpatches\n",
    "from sklearn.model_selection import train_test_split\n",
    "from sklearn.neighbors import KNeighborsClassifier"
   ]
  },
  {
   "cell_type": "markdown",
   "id": "057dbb62",
   "metadata": {},
   "source": [
    "## Import Data\n",
    "preparado"
   ]
  },
  {
   "cell_type": "code",
   "execution_count": 3,
   "id": "b927c1ce",
   "metadata": {},
   "outputs": [
    {
     "name": "stdout",
     "output_type": "stream",
     "text": [
      "     Survived  Pclass  SibSp  Parch     Fare  Sex Encode  Embarked-2  Age-sep\n",
      "0           0       3      1      0     7,25           1           2        1\n",
      "1           1       1      1      0  712.833           0           0        3\n",
      "2           1       3      0      0    7.925           0           2        2\n",
      "3           1       1      1      0     53,1           0           2        3\n",
      "4           0       3      0      0     8,05           1           2        3\n",
      "..        ...     ...    ...    ...      ...         ...         ...      ...\n",
      "886         0       2      0      0       13           1           2        2\n",
      "887         1       1      0      0       30           0           2        1\n",
      "888         0       3      1      2    23,45           0           2        2\n",
      "889         1       1      0      0       30           1           0        2\n",
      "890         0       3      0      0     7,75           1           1        2\n",
      "\n",
      "[891 rows x 8 columns]\n",
      "0      0\n",
      "1      1\n",
      "2      1\n",
      "3      1\n",
      "4      0\n",
      "      ..\n",
      "886    0\n",
      "887    1\n",
      "888    0\n",
      "889    1\n",
      "890    0\n",
      "Name: Survived, Length: 891, dtype: int64\n",
      "     Unnamed: 0  Pclass  SibSp  Parch        Fare  Sex Encode  Embarked-2  \\\n",
      "0             0       3      1      0  130.982998           1           2   \n",
      "1             1       1      1      0  712.833000           0           0   \n",
      "2             2       3      0      0    7.925000           0           2   \n",
      "3             3       1      1      0  130.982998           0           2   \n",
      "4             4       3      0      0  130.982998           1           2   \n",
      "..          ...     ...    ...    ...         ...         ...         ...   \n",
      "886         886       2      0      0   13.000000           1           2   \n",
      "887         887       1      0      0   30.000000           0           2   \n",
      "888         888       3      1      2  130.982998           0           2   \n",
      "889         889       1      0      0   30.000000           1           0   \n",
      "890         890       3      0      0  130.982998           1           1   \n",
      "\n",
      "     Age-sep  \n",
      "0          1  \n",
      "1          3  \n",
      "2          2  \n",
      "3          3  \n",
      "4          3  \n",
      "..       ...  \n",
      "886        2  \n",
      "887        1  \n",
      "888        2  \n",
      "889        2  \n",
      "890        2  \n",
      "\n",
      "[891 rows x 8 columns]\n"
     ]
    }
   ],
   "source": [
    "train1=pd.read_csv(r'C:\\Users\\Nelson\\Documents\\Sync\\Proj_Titanic\\Datas\\train2.csv',sep=',')\n",
    "trainM1=pd.read_csv(r'C:\\Users\\Nelson\\Documents\\Sync\\Proj_Titanic\\Datas\\trainM.csv')\n",
    "trainM1=trainM1.drop(['Unnamed: 0'],axis=1)\n",
    "target1=trainM1['Survived']\n",
    "print(trainM1)\n",
    "print(target1)\n",
    "print(train1)"
   ]
  },
  {
   "cell_type": "code",
   "execution_count": 24,
   "id": "7728da81",
   "metadata": {},
   "outputs": [],
   "source": [
    "#plt.scatter(x='index',y=trainM1['Survived'])\n",
    "#plt.show()\n",
    "train1="
   ]
  },
  {
   "cell_type": "code",
   "execution_count": 28,
   "id": "6b908e73",
   "metadata": {},
   "outputs": [
    {
     "data": {
      "text/plain": [
       "<seaborn.axisgrid.FacetGrid at 0x18920882a08>"
      ]
     },
     "execution_count": 28,
     "metadata": {},
     "output_type": "execute_result"
    },
    {
     "data": {
      "image/png": "[encoded data removed]",
      "text/plain": [
       "<Figure size 360x360 with 1 Axes>"
      ]
     },
     "metadata": {
      "needs_background": "light"
     },
     "output_type": "display_data"
    }
   ],
   "source": [
    "sns.relplot(data=trainM1,x='Age-sep', y='Survived',kind='scatter')"
   ]
  },
  {
   "cell_type": "code",
   "execution_count": 4,
   "id": "0476a194",
   "metadata": {},
   "outputs": [
    {
     "data": {
      "text/html": [
       "<div>\n",
       "<style scoped>\n",
       "    .dataframe tbody tr th:only-of-type {\n",
       "        vertical-align: middle;\n",
       "    }\n",
       "\n",
       "    .dataframe tbody tr th {\n",
       "        vertical-align: top;\n",
       "    }\n",
       "\n",
       "    .dataframe thead th {\n",
       "        text-align: right;\n",
       "    }\n",
       "</style>\n",
       "<table border=\"1\" class=\"dataframe\">\n",
       "  <thead>\n",
       "    <tr style=\"text-align: right;\">\n",
       "      <th></th>\n",
       "      <th>Pclass</th>\n",
       "      <th>SibSp</th>\n",
       "      <th>Parch</th>\n",
       "      <th>Fare</th>\n",
       "      <th>Sex Encode</th>\n",
       "      <th>Embarked-2</th>\n",
       "      <th>Age-sep</th>\n",
       "    </tr>\n",
       "  </thead>\n",
       "  <tbody>\n",
       "    <tr>\n",
       "      <th>0</th>\n",
       "      <td>3</td>\n",
       "      <td>1</td>\n",
       "      <td>0</td>\n",
       "      <td>130.982998</td>\n",
       "      <td>1</td>\n",
       "      <td>2</td>\n",
       "      <td>1</td>\n",
       "    </tr>\n",
       "    <tr>\n",
       "      <th>1</th>\n",
       "      <td>1</td>\n",
       "      <td>1</td>\n",
       "      <td>0</td>\n",
       "      <td>712.833000</td>\n",
       "      <td>0</td>\n",
       "      <td>0</td>\n",
       "      <td>3</td>\n",
       "    </tr>\n",
       "    <tr>\n",
       "      <th>2</th>\n",
       "      <td>3</td>\n",
       "      <td>0</td>\n",
       "      <td>0</td>\n",
       "      <td>7.925000</td>\n",
       "      <td>0</td>\n",
       "      <td>2</td>\n",
       "      <td>2</td>\n",
       "    </tr>\n",
       "    <tr>\n",
       "      <th>3</th>\n",
       "      <td>1</td>\n",
       "      <td>1</td>\n",
       "      <td>0</td>\n",
       "      <td>130.982998</td>\n",
       "      <td>0</td>\n",
       "      <td>2</td>\n",
       "      <td>3</td>\n",
       "    </tr>\n",
       "    <tr>\n",
       "      <th>4</th>\n",
       "      <td>3</td>\n",
       "      <td>0</td>\n",
       "      <td>0</td>\n",
       "      <td>130.982998</td>\n",
       "      <td>1</td>\n",
       "      <td>2</td>\n",
       "      <td>3</td>\n",
       "    </tr>\n",
       "    <tr>\n",
       "      <th>...</th>\n",
       "      <td>...</td>\n",
       "      <td>...</td>\n",
       "      <td>...</td>\n",
       "      <td>...</td>\n",
       "      <td>...</td>\n",
       "      <td>...</td>\n",
       "      <td>...</td>\n",
       "    </tr>\n",
       "    <tr>\n",
       "      <th>886</th>\n",
       "      <td>2</td>\n",
       "      <td>0</td>\n",
       "      <td>0</td>\n",
       "      <td>13.000000</td>\n",
       "      <td>1</td>\n",
       "      <td>2</td>\n",
       "      <td>2</td>\n",
       "    </tr>\n",
       "    <tr>\n",
       "      <th>887</th>\n",
       "      <td>1</td>\n",
       "      <td>0</td>\n",
       "      <td>0</td>\n",
       "      <td>30.000000</td>\n",
       "      <td>0</td>\n",
       "      <td>2</td>\n",
       "      <td>1</td>\n",
       "    </tr>\n",
       "    <tr>\n",
       "      <th>888</th>\n",
       "      <td>3</td>\n",
       "      <td>1</td>\n",
       "      <td>2</td>\n",
       "      <td>130.982998</td>\n",
       "      <td>0</td>\n",
       "      <td>2</td>\n",
       "      <td>2</td>\n",
       "    </tr>\n",
       "    <tr>\n",
       "      <th>889</th>\n",
       "      <td>1</td>\n",
       "      <td>0</td>\n",
       "      <td>0</td>\n",
       "      <td>30.000000</td>\n",
       "      <td>1</td>\n",
       "      <td>0</td>\n",
       "      <td>2</td>\n",
       "    </tr>\n",
       "    <tr>\n",
       "      <th>890</th>\n",
       "      <td>3</td>\n",
       "      <td>0</td>\n",
       "      <td>0</td>\n",
       "      <td>130.982998</td>\n",
       "      <td>1</td>\n",
       "      <td>1</td>\n",
       "      <td>2</td>\n",
       "    </tr>\n",
       "  </tbody>\n",
       "</table>\n",
       "<p>891 rows × 7 columns</p>\n",
       "</div>"
      ],
      "text/plain": [
       "     Pclass  SibSp  Parch        Fare  Sex Encode  Embarked-2  Age-sep\n",
       "0         3      1      0  130.982998           1           2        1\n",
       "1         1      1      0  712.833000           0           0        3\n",
       "2         3      0      0    7.925000           0           2        2\n",
       "3         1      1      0  130.982998           0           2        3\n",
       "4         3      0      0  130.982998           1           2        3\n",
       "..      ...    ...    ...         ...         ...         ...      ...\n",
       "886       2      0      0   13.000000           1           2        2\n",
       "887       1      0      0   30.000000           0           2        1\n",
       "888       3      1      2  130.982998           0           2        2\n",
       "889       1      0      0   30.000000           1           0        2\n",
       "890       3      0      0  130.982998           1           1        2\n",
       "\n",
       "[891 rows x 7 columns]"
      ]
     },
     "execution_count": 4,
     "metadata": {},
     "output_type": "execute_result"
    }
   ],
   "source": [
    "train1=train1.drop(['Unnamed: 0'], axis=1)\n",
    "train1"
   ]
  },
  {
   "cell_type": "code",
   "execution_count": 30,
   "id": "7e2e7669",
   "metadata": {},
   "outputs": [
    {
     "data": {
      "image/png": "[encoded data removed]",
      "text/plain": [
       "<Figure size 432x288 with 9 Axes>"
      ]
     },
     "metadata": {
      "needs_background": "light"
     },
     "output_type": "display_data"
    }
   ],
   "source": [
    "train1.hist()\n",
    "plt.show()"
   ]
  },
  {
   "cell_type": "code",
   "execution_count": null,
   "id": "be36b6e2",
   "metadata": {},
   "outputs": [],
   "source": []
  },
  {
   "cell_type": "code",
   "execution_count": 7,
   "id": "dbfc2662",
   "metadata": {},
   "outputs": [
    {
     "data": {
      "text/plain": [
       "<seaborn.axisgrid.FacetGrid at 0x20411300088>"
      ]
     },
     "execution_count": 7,
     "metadata": {},
     "output_type": "execute_result"
    },
    {
     "data": {
      "image/png": "[encoded data removed]",
      "text/plain": [
       "<Figure size 360x360 with 1 Axes>"
      ]
     },
     "metadata": {
      "needs_background": "light"
     },
     "output_type": "display_data"
    }
   ],
   "source": [
    "sns.displot(train1,x='Fare')"
   ]
  },
  {
   "cell_type": "code",
   "execution_count": 12,
   "id": "1b06a636",
   "metadata": {},
   "outputs": [
    {
     "data": {
      "text/plain": [
       "<seaborn.axisgrid.FacetGrid at 0x20411960648>"
      ]
     },
     "execution_count": 12,
     "metadata": {},
     "output_type": "execute_result"
    },
    {
     "data": {
      "image/png": "[encoded data removed]",
      "text/plain": [
       "<Figure size 216x216 with 1 Axes>"
      ]
     },
     "metadata": {
      "needs_background": "light"
     },
     "output_type": "display_data"
    }
   ],
   "source": [
    "g=sns.FacetGrid(train1)\n",
    "g.map(sns.histplot,)"
   ]
  },
  {
   "cell_type": "code",
   "execution_count": 5,
   "id": "8cbbadb0",
   "metadata": {},
   "outputs": [],
   "source": [
    "# Separo para entrenar\n",
    "X_train, X_test, y_train, y_test = train_test_split(train1, target1,test_size=0.25, random_state=0)"
   ]
  },
  {
   "cell_type": "code",
   "execution_count": 91,
   "id": "6f7418ec",
   "metadata": {},
   "outputs": [
    {
     "data": {
      "text/plain": [
       "(668, 7)"
      ]
     },
     "execution_count": 91,
     "metadata": {},
     "output_type": "execute_result"
    }
   ],
   "source": [
    "X_train.shape"
   ]
  },
  {
   "cell_type": "code",
   "execution_count": 6,
   "id": "8f055d3c",
   "metadata": {},
   "outputs": [
    {
     "data": {
      "text/plain": [
       "KNeighborsClassifier(n_neighbors=3)"
      ]
     },
     "execution_count": 6,
     "metadata": {},
     "output_type": "execute_result"
    }
   ],
   "source": [
    "clasificador1=KNeighborsClassifier(n_neighbors=3,p=2, metric='minkowski')\n",
    "clasificador1.fit(X_train, y_train)"
   ]
  },
  {
   "cell_type": "code",
   "execution_count": 19,
   "id": "508503f2",
   "metadata": {},
   "outputs": [],
   "source": [
    "prediccion1=clasificador1.predict(X_test)\n",
    "prediccion3=clasificador1.predict(X_train)\n"
   ]
  },
  {
   "cell_type": "code",
   "execution_count": 8,
   "id": "166288b3",
   "metadata": {},
   "outputs": [
    {
     "name": "stdout",
     "output_type": "stream",
     "text": [
      "0.8562874251497006\n"
     ]
    }
   ],
   "source": [
    "print(clasificador1.score(X_train, y_train))"
   ]
  },
  {
   "cell_type": "code",
   "execution_count": 9,
   "id": "d853d6bd",
   "metadata": {},
   "outputs": [
    {
     "name": "stdout",
     "output_type": "stream",
     "text": [
      "0.8161434977578476\n"
     ]
    }
   ],
   "source": [
    "print(clasificador1.score(X_test, y_test))"
   ]
  },
  {
   "cell_type": "code",
   "execution_count": 10,
   "id": "2ff2e4da",
   "metadata": {},
   "outputs": [
    {
     "data": {
      "text/plain": [
       "KNeighborsClassifier(n_neighbors=3, p=1)"
      ]
     },
     "execution_count": 10,
     "metadata": {},
     "output_type": "execute_result"
    }
   ],
   "source": [
    "clasificador2=KNeighborsClassifier(n_neighbors=3,p=1, metric='minkowski')\n",
    "clasificador2.fit(X_train, y_train)"
   ]
  },
  {
   "cell_type": "code",
   "execution_count": 11,
   "id": "8c48a077",
   "metadata": {},
   "outputs": [
    {
     "name": "stdout",
     "output_type": "stream",
     "text": [
      "0.8607784431137725\n"
     ]
    }
   ],
   "source": [
    "print(clasificador2.score(X_train, y_train))"
   ]
  },
  {
   "cell_type": "code",
   "execution_count": 12,
   "id": "e4f6d4e5",
   "metadata": {},
   "outputs": [
    {
     "name": "stdout",
     "output_type": "stream",
     "text": [
      "0.8116591928251121\n"
     ]
    }
   ],
   "source": [
    "print(clasificador2.score(X_test, y_test))"
   ]
  },
  {
   "cell_type": "code",
   "execution_count": 14,
   "id": "3df4dc2a",
   "metadata": {},
   "outputs": [],
   "source": [
    "prediccion4=clasificador2.predict(X_test)"
   ]
  },
  {
   "cell_type": "code",
   "execution_count": 15,
   "id": "dc42dee3",
   "metadata": {},
   "outputs": [
    {
     "name": "stdout",
     "output_type": "stream",
     "text": [
      "0.8116591928251121\n"
     ]
    }
   ],
   "source": [
    "from sklearn.metrics import accuracy_score\n",
    "print(accuracy_score(prediccion4, y_test))"
   ]
  },
  {
   "cell_type": "code",
   "execution_count": 16,
   "id": "d043fb7c",
   "metadata": {},
   "outputs": [
    {
     "name": "stdout",
     "output_type": "stream",
     "text": [
      "              precision    recall  f1-score   support\n",
      "\n",
      "           0       0.83      0.88      0.85       139\n",
      "           1       0.78      0.69      0.73        84\n",
      "\n",
      "    accuracy                           0.81       223\n",
      "   macro avg       0.80      0.79      0.79       223\n",
      "weighted avg       0.81      0.81      0.81       223\n",
      "\n"
     ]
    }
   ],
   "source": [
    "from sklearn.metrics import classification_report\n",
    "print(classification_report(y_true=y_test, y_pred=prediccion4))"
   ]
  },
  {
   "cell_type": "code",
   "execution_count": 17,
   "id": "8f060d91",
   "metadata": {},
   "outputs": [
    {
     "name": "stdout",
     "output_type": "stream",
     "text": [
      "[[123  16]\n",
      " [ 26  58]]\n"
     ]
    }
   ],
   "source": [
    "from sklearn.metrics import confusion_matrix\n",
    "a=confusion_matrix(y_true=y_test,y_pred=prediccion4)\n",
    "print(a)    "
   ]
  },
  {
   "cell_type": "code",
   "execution_count": 29,
   "id": "ce79ee08",
   "metadata": {},
   "outputs": [
    {
     "data": {
      "text/plain": [
       "<AxesSubplot:>"
      ]
     },
     "execution_count": 29,
     "metadata": {},
     "output_type": "execute_result"
    },
    {
     "data": {
      "image/png": "[encoded data removed]",
      "text/plain": [
       "<Figure size 432x288 with 2 Axes>"
      ]
     },
     "metadata": {
      "needs_background": "light"
     },
     "output_type": "display_data"
    }
   ],
   "source": [
    "sns.heatmap(a,annot=True)"
   ]
  },
  {
   "cell_type": "code",
   "execution_count": 18,
   "id": "5b211da4",
   "metadata": {},
   "outputs": [],
   "source": [
    "k_rango = range(1,100)\n",
    "scores = []\n",
    "for k in k_rango:\n",
    "    knn = KNeighborsClassifier(n_neighbors = k)\n",
    "    knn.fit(X_train, y_train)\n",
    "    scores.append(knn.score(X_test, y_test))\n"
   ]
  },
  {
   "cell_type": "code",
   "execution_count": 19,
   "id": "616e64b3",
   "metadata": {},
   "outputs": [
    {
     "data": {
      "text/plain": [
       "<seaborn.axisgrid.FacetGrid at 0x281026a0dc8>"
      ]
     },
     "execution_count": 19,
     "metadata": {},
     "output_type": "execute_result"
    },
    {
     "data": {
      "image/png": "[encoded data removed]",
      "text/plain": [
       "<Figure size 360x360 with 1 Axes>"
      ]
     },
     "metadata": {
      "needs_background": "light"
     },
     "output_type": "display_data"
    }
   ],
   "source": [
    "sns.relplot(x=k_rango, y=scores)"
   ]
  },
  {
   "cell_type": "code",
   "execution_count": 20,
   "id": "858cd4f4",
   "metadata": {},
   "outputs": [],
   "source": [
    "k_rango = range(1,6)\n",
    "scores = []\n",
    "for k in k_rango:\n",
    "    knn = KNeighborsClassifier(n_neighbors = k)\n",
    "    knn.fit(X_train, y_train)\n",
    "    scores.append(knn.score(X_test, y_test))\n"
   ]
  },
  {
   "cell_type": "code",
   "execution_count": 21,
   "id": "8a616c2e",
   "metadata": {},
   "outputs": [
    {
     "data": {
      "text/plain": [
       "<seaborn.axisgrid.FacetGrid at 0x2810257e808>"
      ]
     },
     "execution_count": 21,
     "metadata": {},
     "output_type": "execute_result"
    },
    {
     "data": {
      "image/png": "[encoded data removed]",
      "text/plain": [
       "<Figure size 360x360 with 1 Axes>"
      ]
     },
     "metadata": {
      "needs_background": "light"
     },
     "output_type": "display_data"
    }
   ],
   "source": [
    "sns.relplot(x=k_rango, y=scores)"
   ]
  },
  {
   "cell_type": "code",
   "execution_count": 22,
   "id": "9519d317",
   "metadata": {},
   "outputs": [
    {
     "data": {
      "text/plain": [
       "KNeighborsClassifier(p=1)"
      ]
     },
     "execution_count": 22,
     "metadata": {},
     "output_type": "execute_result"
    }
   ],
   "source": [
    "#Parece el mejor\n",
    "clasificador5=KNeighborsClassifier(n_neighbors=5,p=1, metric='minkowski')\n",
    "clasificador5.fit(X_train, y_train)"
   ]
  },
  {
   "cell_type": "code",
   "execution_count": 23,
   "id": "bf25dbbd",
   "metadata": {},
   "outputs": [
    {
     "name": "stdout",
     "output_type": "stream",
     "text": [
      "0.8475336322869955\n"
     ]
    }
   ],
   "source": [
    "print(clasificador5.score(X_test, y_test))"
   ]
  },
  {
   "cell_type": "code",
   "execution_count": 24,
   "id": "e4266472",
   "metadata": {},
   "outputs": [
    {
     "name": "stdout",
     "output_type": "stream",
     "text": [
      "0.8383233532934131\n"
     ]
    }
   ],
   "source": [
    "print(clasificador5.score(X_train, y_train))"
   ]
  },
  {
   "cell_type": "code",
   "execution_count": 47,
   "id": "962e9f1c",
   "metadata": {},
   "outputs": [
    {
     "data": {
      "text/plain": [
       "KNeighborsClassifier(n_neighbors=26, p=1)"
      ]
     },
     "execution_count": 47,
     "metadata": {},
     "output_type": "execute_result"
    }
   ],
   "source": [
    "clasificador2=KNeighborsClassifier(n_neighbors=26,p=1, metric='minkowski')\n",
    "clasificador2.fit(X_train, y_train)"
   ]
  },
  {
   "cell_type": "code",
   "execution_count": 48,
   "id": "7fd3676b",
   "metadata": {},
   "outputs": [
    {
     "name": "stdout",
     "output_type": "stream",
     "text": [
      "0.6771300448430493\n"
     ]
    }
   ],
   "source": [
    "print(clasificador2.score(X_test, y_test))"
   ]
  },
  {
   "cell_type": "code",
   "execution_count": 49,
   "id": "5878b196",
   "metadata": {},
   "outputs": [
    {
     "name": "stdout",
     "output_type": "stream",
     "text": [
      "0.6497005988023952\n"
     ]
    }
   ],
   "source": [
    "print(clasificador2.score(X_train, y_train))"
   ]
  },
  {
   "cell_type": "code",
   "execution_count": 131,
   "id": "aeb67677",
   "metadata": {},
   "outputs": [
    {
     "data": {
      "text/html": [
       "<div>\n",
       "<style scoped>\n",
       "    .dataframe tbody tr th:only-of-type {\n",
       "        vertical-align: middle;\n",
       "    }\n",
       "\n",
       "    .dataframe tbody tr th {\n",
       "        vertical-align: top;\n",
       "    }\n",
       "\n",
       "    .dataframe thead th {\n",
       "        text-align: right;\n",
       "    }\n",
       "</style>\n",
       "<table border=\"1\" class=\"dataframe\">\n",
       "  <thead>\n",
       "    <tr style=\"text-align: right;\">\n",
       "      <th></th>\n",
       "      <th>Sex Encode</th>\n",
       "      <th>Age-sep</th>\n",
       "    </tr>\n",
       "  </thead>\n",
       "  <tbody>\n",
       "    <tr>\n",
       "      <th>105</th>\n",
       "      <td>1</td>\n",
       "      <td>2</td>\n",
       "    </tr>\n",
       "    <tr>\n",
       "      <th>68</th>\n",
       "      <td>0</td>\n",
       "      <td>1</td>\n",
       "    </tr>\n",
       "    <tr>\n",
       "      <th>253</th>\n",
       "      <td>1</td>\n",
       "      <td>2</td>\n",
       "    </tr>\n",
       "    <tr>\n",
       "      <th>320</th>\n",
       "      <td>1</td>\n",
       "      <td>1</td>\n",
       "    </tr>\n",
       "    <tr>\n",
       "      <th>706</th>\n",
       "      <td>0</td>\n",
       "      <td>3</td>\n",
       "    </tr>\n",
       "    <tr>\n",
       "      <th>...</th>\n",
       "      <td>...</td>\n",
       "      <td>...</td>\n",
       "    </tr>\n",
       "    <tr>\n",
       "      <th>835</th>\n",
       "      <td>0</td>\n",
       "      <td>3</td>\n",
       "    </tr>\n",
       "    <tr>\n",
       "      <th>192</th>\n",
       "      <td>0</td>\n",
       "      <td>1</td>\n",
       "    </tr>\n",
       "    <tr>\n",
       "      <th>629</th>\n",
       "      <td>1</td>\n",
       "      <td>2</td>\n",
       "    </tr>\n",
       "    <tr>\n",
       "      <th>559</th>\n",
       "      <td>0</td>\n",
       "      <td>3</td>\n",
       "    </tr>\n",
       "    <tr>\n",
       "      <th>684</th>\n",
       "      <td>1</td>\n",
       "      <td>5</td>\n",
       "    </tr>\n",
       "  </tbody>\n",
       "</table>\n",
       "<p>668 rows × 2 columns</p>\n",
       "</div>"
      ],
      "text/plain": [
       "     Sex Encode  Age-sep\n",
       "105           1        2\n",
       "68            0        1\n",
       "253           1        2\n",
       "320           1        1\n",
       "706           0        3\n",
       "..          ...      ...\n",
       "835           0        3\n",
       "192           0        1\n",
       "629           1        2\n",
       "559           0        3\n",
       "684           1        5\n",
       "\n",
       "[668 rows x 2 columns]"
      ]
     },
     "execution_count": 131,
     "metadata": {},
     "output_type": "execute_result"
    }
   ],
   "source": [
    "X_train[['Sex Encode','Age-sep']]"
   ]
  },
  {
   "cell_type": "code",
   "execution_count": 132,
   "id": "493f62f0",
   "metadata": {},
   "outputs": [
    {
     "data": {
      "text/plain": [
       "105    0\n",
       "68     1\n",
       "253    0\n",
       "320    0\n",
       "706    1\n",
       "      ..\n",
       "835    1\n",
       "192    1\n",
       "629    0\n",
       "559    1\n",
       "684    0\n",
       "Name: Survived, Length: 668, dtype: int64"
      ]
     },
     "execution_count": 132,
     "metadata": {},
     "output_type": "execute_result"
    }
   ],
   "source": [
    "y_train"
   ]
  },
  {
   "cell_type": "code",
   "execution_count": 8,
   "id": "7d877d28",
   "metadata": {},
   "outputs": [
    {
     "data": {
      "text/plain": [
       "KNeighborsClassifier(p=1)"
      ]
     },
     "execution_count": 8,
     "metadata": {},
     "output_type": "execute_result"
    }
   ],
   "source": [
    "# _Clasifico para dos para poder visualizarlo en 2D\n",
    "clasificador6=KNeighborsClassifier(n_neighbors=5,p=1, metric='minkowski')\n",
    "X_set, y_set = X_train[['Sex Encode','Age-sep']], y_train\n",
    "clasificador6.fit(X_set, y_set)"
   ]
  },
  {
   "cell_type": "code",
   "execution_count": 9,
   "id": "14ec948b",
   "metadata": {},
   "outputs": [
    {
     "name": "stderr",
     "output_type": "stream",
     "text": [
      "No handles with labels found to put in legend.\n"
     ]
    },
    {
     "data": {
      "image/png": "[encoded data removed]",
      "text/plain": [
       "<Figure size 432x288 with 1 Axes>"
      ]
     },
     "metadata": {
      "needs_background": "light"
     },
     "output_type": "display_data"
    }
   ],
   "source": [
    "from matplotlib.colors import ListedColormap\n",
    "X_set, y_set = X_train[['Sex Encode','Age-sep']], y_train\n",
    "X1, X2 = np.meshgrid(np.arange(start = X_set.iloc[:, 0].min() - 1, stop = X_set.iloc[:, 0].max() + 1, step = 0.01),\n",
    "                     np.arange(start = X_set.iloc[:, 1].min() - 1, stop = X_set.iloc[:, 1].max() + 1, step = 0.01))\n",
    "plt.contourf(X1, X2, clasificador6.predict(np.array([X1.ravel(), X2.ravel()]).T).reshape(X1.shape),\n",
    "             alpha = 0.75, cmap = ListedColormap(('red', 'green')))\n",
    "plt.xlim(X1.min(), X1.max())\n",
    "plt.ylim(X2.min(), X2.max())\n",
    "#for i, j in enumerate(np.unique(y_set)):\n",
    " #   plt.scatter(X_set[y_set == j, 0], X_set[y_set == j, 1],\n",
    "  #              c = ListedColormap(('red', 'green'))(i), label = j)\n",
    "plt.title('K-NN (Prueba)')\n",
    "plt.xlabel('Edad')\n",
    "plt.ylabel('Salario Estimado')\n",
    "plt.legend()\n",
    "plt.show()\n"
   ]
  },
  {
   "cell_type": "code",
   "execution_count": 10,
   "id": "0d9eb4e8",
   "metadata": {},
   "outputs": [],
   "source": [
    "#X_set.dt"
   ]
  },
  {
   "cell_type": "code",
   "execution_count": 139,
   "id": "094b21df",
   "metadata": {},
   "outputs": [
    {
     "data": {
      "text/plain": [
       "(240000,)"
      ]
     },
     "execution_count": 139,
     "metadata": {},
     "output_type": "execute_result"
    }
   ],
   "source": [
    "\"\"\"from matplotlib.colors import ListedColormap\n",
    "X_set, y_set = X_train[['Sex Encode','Age-sep']], y_train\n",
    "X1, X2 = np.meshgrid(np.arange(start = X_set.iloc[:, 0].min() - 1, stop = X_set.iloc[:, 0].max() + 1, step = 0.01),\n",
    "                     np.arange(start = X_set.iloc[:, 1].min() - 1, stop = X_set.iloc[:, 1].max() + 1, step = 0.01))\n",
    "plt.contourf(X1, X2, clasificador6.predict(np.array([X1.ravel(), X2.ravel()]).T).reshape(X1.shape),\n",
    "             alpha = 0.75, cmap = ListedColormap(('red', 'green')))\n",
    "plt.xlim(X1.min(), X1.max())\n",
    "plt.ylim(X2.min(), X2.max())\n",
    "#for i, j in enumerate(np.unique(y_set)):\n",
    " #   plt.scatter(X_set[y_set == j, 0], X_set[y_set == j, 1],\n",
    "  #              c = ListedColormap(('red', 'green'))(i), label = j)\n",
    "plt.title('K-NN (Prueba)')\n",
    "plt.xlabel('Edad')\n",
    "plt.ylabel('Salario Estimado')\n",
    "plt.legend()\n",
    "plt.show()\"\"\""
   ]
  },
  {
   "cell_type": "code",
   "execution_count": 154,
   "id": "c6cdee12",
   "metadata": {},
   "outputs": [
    {
     "data": {
      "text/plain": [
       "'from matplotlib.colors import ListedColormap\\nX_set, y_set = X_train[[\\'Sex Encode\\',\\'Age-sep\\']], y_train\\nx_min, x_max = X_set.iloc[:, 0].min() - 1, X_set.iloc[:, 0].max() + 1\\ny_min, y_max = X_set.iloc[:, 1].min() - 1, X_set.iloc[:, 1].max() + 1\\nxx, yy = np.meshgrid(np.arange(x_min, x_max),\\n                         np.arange(y_min, y_max))\\nZ = clasificador5.predict(np.c_[xx.ravel(), yy.ravel()])\\n \\n# Put the result into a color plot\\nZ = Z.reshape(xx.shape)\\nplt.figure()\\nplt.pcolormesh(xx, yy, Z, cmap=cmap_light)\\n \\n# Plot also the training points\\nplt.scatter(X[:, 0], X[:, 1], c=y, cmap=cmap_bold,\\n                edgecolor=\\'k\\', s=20)\\nplt.xlim(xx.min(), xx.max())\\nplt.ylim(yy.min(), yy.max())\\n    \\npatch0 = mpatches.Patch(color=\\'#FF0000\\', label=\\'1\\')\\npatch1 = mpatches.Patch(color=\\'#ff9933\\', label=\\'2\\')\\npatch2 = mpatches.Patch(color=\\'#FFFF00\\', label=\\'3\\')\\npatch3 = mpatches.Patch(color=\\'#00ffff\\', label=\\'4\\')\\npatch4 = mpatches.Patch(color=\\'#00FF00\\', label=\\'5\\')\\nplt.legend(handles=[patch0, patch1, patch2, patch3,patch4])\\n \\n    \\nplt.title(\"5-Class classification (k = %i, weights = \\'%s\\')\"\\n              % (n_neighbors, weights))\\n \\nplt.show()'"
      ]
     },
     "execution_count": 154,
     "metadata": {},
     "output_type": "execute_result"
    }
   ],
   "source": [
    "\"\"\"from matplotlib.colors import ListedColormap\n",
    "X_set, y_set = X_train[['Sex Encode','Age-sep']], y_train\n",
    "x_min, x_max = X_set.iloc[:, 0].min() - 1, X_set.iloc[:, 0].max() + 1\n",
    "y_min, y_max = X_set.iloc[:, 1].min() - 1, X_set.iloc[:, 1].max() + 1\n",
    "xx, yy = np.meshgrid(np.arange(x_min, x_max),\n",
    "                         np.arange(y_min, y_max))\n",
    "Z = clasificador5.predict(np.c_[xx.ravel(), yy.ravel()])\n",
    " \n",
    "# Put the result into a color plot\n",
    "Z = Z.reshape(xx.shape)\n",
    "plt.figure()\n",
    "plt.pcolormesh(xx, yy, Z, cmap=cmap_light)\n",
    " \n",
    "# Plot also the training points\n",
    "plt.scatter(X[:, 0], X[:, 1], c=y, cmap=cmap_bold,\n",
    "                edgecolor='k', s=20)\n",
    "plt.xlim(xx.min(), xx.max())\n",
    "plt.ylim(yy.min(), yy.max())\n",
    "    \n",
    "patch0 = mpatches.Patch(color='#FF0000', label='1')\n",
    "patch1 = mpatches.Patch(color='#ff9933', label='2')\n",
    "patch2 = mpatches.Patch(color='#FFFF00', label='3')\n",
    "patch3 = mpatches.Patch(color='#00ffff', label='4')\n",
    "patch4 = mpatches.Patch(color='#00FF00', label='5')\n",
    "plt.legend(handles=[patch0, patch1, patch2, patch3,patch4])\n",
    " \n",
    "    \n",
    "plt.title(\"5-Class classification (k = %i, weights = '%s')\"\n",
    "              % (n_neighbors, weights))\n",
    " \n",
    "plt.show()\"\"\""
   ]
  },
  {
   "cell_type": "markdown",
   "id": "6d3b3c88",
   "metadata": {},
   "source": [
    "## Cross Validation"
   ]
  },
  {
   "cell_type": "code",
   "execution_count": 12,
   "id": "9dcb3074",
   "metadata": {},
   "outputs": [],
   "source": [
    "# Separo para entrenar\n",
    "X_train, X_test, y_train, y_test = train_test_split(train1, target1,test_size=0.25, random_state=0)"
   ]
  },
  {
   "cell_type": "code",
   "execution_count": 13,
   "id": "7c7aed09",
   "metadata": {},
   "outputs": [],
   "source": [
    "#Scalerizo para ver si mejora\n",
    "from sklearn.preprocessing import MinMaxScaler\n",
    "escalador=MinMaxScaler()\n",
    "X_train=escalador.fit_transform(X_train)\n",
    "X_test=escalador.fit_transform(X_test)"
   ]
  },
  {
   "cell_type": "code",
   "execution_count": 14,
   "id": "0161033d",
   "metadata": {},
   "outputs": [
    {
     "data": {
      "text/plain": [
       "KNeighborsClassifier(p=1)"
      ]
     },
     "execution_count": 14,
     "metadata": {},
     "output_type": "execute_result"
    }
   ],
   "source": [
    "clasificador8=KNeighborsClassifier(n_neighbors=5,p=1, metric='minkowski')\n",
    "clasificador8.fit(X_train, y_train)"
   ]
  },
  {
   "cell_type": "code",
   "execution_count": 15,
   "id": "ccd7fe7b",
   "metadata": {},
   "outputs": [
    {
     "data": {
      "text/plain": [
       "0.8532934131736527"
      ]
     },
     "execution_count": 15,
     "metadata": {},
     "output_type": "execute_result"
    }
   ],
   "source": [
    "clasificador8.score(X_train, y_train)"
   ]
  },
  {
   "cell_type": "code",
   "execution_count": 16,
   "id": "059c8d6c",
   "metadata": {},
   "outputs": [
    {
     "data": {
      "text/plain": [
       "0.8026905829596412"
      ]
     },
     "execution_count": 16,
     "metadata": {},
     "output_type": "execute_result"
    }
   ],
   "source": [
    "clasificador8.score(X_test, y_test)"
   ]
  },
  {
   "cell_type": "code",
   "execution_count": 17,
   "id": "e130711a",
   "metadata": {},
   "outputs": [],
   "source": [
    "from sklearn.model_selection import KFold\n",
    "ValCruz = KFold(25, shuffle=False)"
   ]
  },
  {
   "cell_type": "code",
   "execution_count": 20,
   "id": "882dd816",
   "metadata": {},
   "outputs": [
    {
     "data": {
      "text/plain": [
       "array([0.7037037 , 0.74074074, 0.85185185, 0.66666667, 0.81481481,\n",
       "       0.88888889, 0.77777778, 0.88888889, 0.74074074, 0.92592593,\n",
       "       0.66666667, 0.92592593, 0.77777778, 0.88888889, 0.74074074,\n",
       "       0.85185185, 0.81481481, 0.77777778, 0.76923077, 0.80769231,\n",
       "       0.80769231, 0.88461538, 0.76923077, 0.73076923, 0.88461538])"
      ]
     },
     "execution_count": 20,
     "metadata": {},
     "output_type": "execute_result"
    }
   ],
   "source": [
    "from sklearn.model_selection import cross_val_score\n",
    "VcScore=cross_val_score(clasificador8,X_train,y_train,cv=ValCruz, scoring=\"accuracy\")\n",
    "VcScore"
   ]
  },
  {
   "cell_type": "code",
   "execution_count": 21,
   "id": "c4f50450",
   "metadata": {},
   "outputs": [
    {
     "data": {
      "text/plain": [
       "0.9259259259259259"
      ]
     },
     "execution_count": 21,
     "metadata": {},
     "output_type": "execute_result"
    }
   ],
   "source": [
    "VcScore.max()"
   ]
  },
  {
   "cell_type": "code",
   "execution_count": null,
   "id": "8947adb7",
   "metadata": {},
   "outputs": [],
   "source": []
  },
  {
   "cell_type": "code",
   "execution_count": 24,
   "id": "b4e0fe04",
   "metadata": {},
   "outputs": [
    {
     "name": "stdout",
     "output_type": "stream",
     "text": [
      "[0.7545002261420171, 0.7859565807327, 0.7890094979647219, 0.799366802351877, 0.7934418815015831, 0.8054047942107643, 0.7994120307553143, 0.8068747173224786, 0.7949570330167346, 0.80239710538218, 0.7964721845318861, 0.8068973315241971, 0.8039574853007687, 0.8024197195838987, 0.7964495703301673, 0.8024197195838987, 0.7979873360470375, 0.8024423337856174, 0.8054274084124831, 0.7964495703301674, 0.7949344188150159, 0.7994572591587515, 0.7979421076436002, 0.7994572591587515, 0.7994572591587517, 0.8009497964721846, 0.7979647218453187, 0.7994572591587515, 0.8024649479873359]\n"
     ]
    }
   ],
   "source": [
    "# Buscando el mejor k con cross validation\n",
    "# Ya se que andaba bien \n",
    "k_range = range(1, 30)\n",
    "k_scores = []\n",
    "\n",
    "for k in k_range:\n",
    "    \n",
    "    clasificador9  = KNeighborsClassifier(n_neighbors=k)\n",
    "    scores3 = cross_val_score(clasificador9, X_train,y_train, cv=10, scoring='accuracy')\n",
    "    k_scores.append(scores3.mean())\n",
    "\n",
    "print(k_scores)"
   ]
  },
  {
   "cell_type": "code",
   "execution_count": 35,
   "id": "4a73fb84",
   "metadata": {},
   "outputs": [
    {
     "name": "stdout",
     "output_type": "stream",
     "text": [
      "The optimal number of neighbors is 12\n"
     ]
    },
    {
     "data": {
      "image/png": "[encoded data removed]",
      "text/plain": [
       "<Figure size 432x288 with 1 Axes>"
      ]
     },
     "metadata": {
      "needs_background": "light"
     },
     "output_type": "display_data"
    }
   ],
   "source": [
    "mse = [1 - x for x in k_scores]\n",
    "\n",
    "optimal_k = k_range[mse.index(min(mse))]\n",
    "print(\"The optimal number of neighbors is {}\".format(optimal_k))\n",
    "\n",
    "# plot misclassification error vs k\n",
    "plt.plot(k_range, mse)\n",
    "plt.xlabel(\"Number of Neighbors K\")\n",
    "plt.ylabel(\"Misclassification Error\")\n",
    "plt.show()"
   ]
  },
  {
   "cell_type": "code",
   "execution_count": 39,
   "id": "2c3b78e6",
   "metadata": {},
   "outputs": [
    {
     "data": {
      "text/plain": [
       "KNeighborsClassifier(n_neighbors=7, p=1)"
      ]
     },
     "execution_count": 39,
     "metadata": {},
     "output_type": "execute_result"
    }
   ],
   "source": [
    "clasificador10=KNeighborsClassifier(n_neighbors=7,p=1, metric='minkowski')\n",
    "clasificador10.fit(X_train, y_train)"
   ]
  },
  {
   "cell_type": "code",
   "execution_count": 40,
   "id": "4bdfa34d",
   "metadata": {},
   "outputs": [
    {
     "data": {
      "text/plain": [
       "0.7937219730941704"
      ]
     },
     "execution_count": 40,
     "metadata": {},
     "output_type": "execute_result"
    }
   ],
   "source": [
    "clasificador10.score(X_test, y_test)"
   ]
  },
  {
   "cell_type": "code",
   "execution_count": 42,
   "id": "10762987",
   "metadata": {},
   "outputs": [
    {
     "data": {
      "text/plain": [
       "0.8547904191616766"
      ]
     },
     "execution_count": 42,
     "metadata": {},
     "output_type": "execute_result"
    }
   ],
   "source": [
    "clasificador10.score(X_train, y_train)"
   ]
  },
  {
   "cell_type": "code",
   "execution_count": 43,
   "id": "9b7d89f8",
   "metadata": {},
   "outputs": [
    {
     "data": {
      "text/plain": [
       "KNeighborsClassifier(n_neighbors=17, p=1)"
      ]
     },
     "execution_count": 43,
     "metadata": {},
     "output_type": "execute_result"
    }
   ],
   "source": [
    "clasificador11=KNeighborsClassifier(n_neighbors=17,p=1, metric='minkowski')\n",
    "clasificador11.fit(X_train, y_train)"
   ]
  },
  {
   "cell_type": "code",
   "execution_count": 44,
   "id": "06ed3e20",
   "metadata": {},
   "outputs": [
    {
     "data": {
      "text/plain": [
       "0.7937219730941704"
      ]
     },
     "execution_count": 44,
     "metadata": {},
     "output_type": "execute_result"
    }
   ],
   "source": [
    "clasificador11.score(X_test, y_test)"
   ]
  },
  {
   "cell_type": "code",
   "execution_count": null,
   "id": "f38e4982",
   "metadata": {},
   "outputs": [],
   "source": []
  }
 ],
 "metadata": {
  "kernelspec": {
   "display_name": "Python 3",
   "language": "python",
   "name": "python3"
  },
  "language_info": {
   "codemirror_mode": {
    "name": "ipython",
    "version": 3
   },
   "file_extension": ".py",
   "mimetype": "text/x-python",
   "name": "python",
   "nbconvert_exporter": "python",
   "pygments_lexer": "ipython3",
   "version": "3.7.10"
  }
 },
 "nbformat": 4,
 "nbformat_minor": 5
}
