{
 "cells": [
  {
   "cell_type": "code",
   "execution_count": 1,
   "id": "115ebd91",
   "metadata": {},
   "outputs": [],
   "source": [
    "import pandas as pd\n",
    "import numpy as np\n",
    "import matplotlib.pyplot as plt\n",
    "import seaborn as sns"
   ]
  },
  {
   "cell_type": "code",
   "execution_count": 6,
   "id": "11e0c850",
   "metadata": {},
   "outputs": [
    {
     "name": "stdout",
     "output_type": "stream",
     "text": [
      "     Survived  Pclass  SibSp  Parch     Fare  Sex Encode  Embarked-2  Age-sep\n",
      "0           0       3      1      0     7,25           1           2        1\n",
      "1           1       1      1      0  712.833           0           0        3\n",
      "2           1       3      0      0    7.925           0           2        2\n",
      "3           1       1      1      0     53,1           0           2        3\n",
      "4           0       3      0      0     8,05           1           2        3\n",
      "..        ...     ...    ...    ...      ...         ...         ...      ...\n",
      "886         0       2      0      0       13           1           2        2\n",
      "887         1       1      0      0       30           0           2        1\n",
      "888         0       3      1      2    23,45           0           2        2\n",
      "889         1       1      0      0       30           1           0        2\n",
      "890         0       3      0      0     7,75           1           1        2\n",
      "\n",
      "[891 rows x 8 columns]\n",
      "0      0\n",
      "1      1\n",
      "2      1\n",
      "3      1\n",
      "4      0\n",
      "      ..\n",
      "886    0\n",
      "887    1\n",
      "888    0\n",
      "889    1\n",
      "890    0\n",
      "Name: Survived, Length: 891, dtype: int64\n"
     ]
    },
    {
     "data": {
      "text/plain": [
       "0      0\n",
       "1      1\n",
       "2      1\n",
       "3      1\n",
       "4      0\n",
       "      ..\n",
       "886    0\n",
       "887    1\n",
       "888    0\n",
       "889    1\n",
       "890    0\n",
       "Name: Survived, Length: 891, dtype: int64"
      ]
     },
     "execution_count": 6,
     "metadata": {},
     "output_type": "execute_result"
    }
   ],
   "source": [
    "train1=pd.read_csv(r'C:\\Users\\Nelson\\Documents\\Sync\\Proj_Titanic\\Datas\\train2.csv',sep=',')\n",
    "trainM1=pd.read_csv(r'C:\\Users\\Nelson\\Documents\\Sync\\Proj_Titanic\\Datas\\trainM.csv')\n",
    "trainM1=trainM1.drop(['Unnamed: 0'],axis=1)\n",
    "target1=trainM1['Survived']\n",
    "print(trainM1)\n",
    "print(target1)\n",
    "trainP=train1.drop(['Unnamed: 0'],axis=1)\n",
    "target1"
   ]
  },
  {
   "cell_type": "code",
   "execution_count": 30,
   "id": "30bffccb",
   "metadata": {},
   "outputs": [],
   "source": [
    "#Separando la data \n",
    "from sklearn.model_selection import train_test_split\n",
    "X_train, X_test, y_train, y_test = train_test_split(trainP, target1, test_size=0.30, random_state=42)"
   ]
  },
  {
   "cell_type": "code",
   "execution_count": 8,
   "id": "1d6f4ee8",
   "metadata": {},
   "outputs": [
    {
     "data": {
      "text/plain": [
       "GaussianNB()"
      ]
     },
     "execution_count": 8,
     "metadata": {},
     "output_type": "execute_result"
    }
   ],
   "source": [
    "from sklearn.naive_bayes import GaussianNB\n",
    "clasificador1 = GaussianNB()\n",
    "clasificador1.fit(X_train, y_train)"
   ]
  },
  {
   "cell_type": "code",
   "execution_count": 9,
   "id": "4045abaf",
   "metadata": {},
   "outputs": [
    {
     "data": {
      "text/plain": [
       "0.7945425361155698"
      ]
     },
     "execution_count": 9,
     "metadata": {},
     "output_type": "execute_result"
    }
   ],
   "source": [
    "clasificador1.score(X_train,y_train)"
   ]
  },
  {
   "cell_type": "code",
   "execution_count": 10,
   "id": "ab523195",
   "metadata": {},
   "outputs": [
    {
     "data": {
      "text/plain": [
       "0.7910447761194029"
      ]
     },
     "execution_count": 10,
     "metadata": {},
     "output_type": "execute_result"
    }
   ],
   "source": [
    "clasificador1.score(X_test,y_test)"
   ]
  },
  {
   "cell_type": "markdown",
   "id": "841cbdb1",
   "metadata": {},
   "source": [
    "## Mejorando"
   ]
  },
  {
   "cell_type": "code",
   "execution_count": 15,
   "id": "7dfb6a12",
   "metadata": {},
   "outputs": [],
   "source": [
    "from sklearn.preprocessing import StandardScaler\n",
    "sc = StandardScaler()\n",
    "X_train = sc.fit_transform(X_train)\n",
    "X_test = sc.transform(X_test)\n"
   ]
  },
  {
   "cell_type": "code",
   "execution_count": 12,
   "id": "a199d608",
   "metadata": {},
   "outputs": [
    {
     "data": {
      "text/plain": [
       "GaussianNB()"
      ]
     },
     "execution_count": 12,
     "metadata": {},
     "output_type": "execute_result"
    }
   ],
   "source": [
    "from sklearn.naive_bayes import GaussianNB\n",
    "clasificador1 = GaussianNB()\n",
    "clasificador1.fit(X_train, y_train)"
   ]
  },
  {
   "cell_type": "code",
   "execution_count": 13,
   "id": "a21fd154",
   "metadata": {},
   "outputs": [
    {
     "data": {
      "text/plain": [
       "0.7945425361155698"
      ]
     },
     "execution_count": 13,
     "metadata": {},
     "output_type": "execute_result"
    }
   ],
   "source": [
    "clasificador1.score(X_train,y_train)"
   ]
  },
  {
   "cell_type": "code",
   "execution_count": 16,
   "id": "671c2fd9",
   "metadata": {},
   "outputs": [
    {
     "data": {
      "text/plain": [
       "0.7910447761194029"
      ]
     },
     "execution_count": 16,
     "metadata": {},
     "output_type": "execute_result"
    }
   ],
   "source": [
    "clasificador1.score(X_test,y_test)"
   ]
  },
  {
   "cell_type": "code",
   "execution_count": 23,
   "id": "0fcc2347",
   "metadata": {},
   "outputs": [
    {
     "name": "stdout",
     "output_type": "stream",
     "text": [
      "Index(['Pclass', 'Parch', 'Fare', 'Sex Encode', 'Embarked-2'], dtype='object')\n"
     ]
    }
   ],
   "source": [
    "from sklearn.feature_selection import SelectKBest\n",
    "mejores=SelectKBest(k=5)\n",
    "DataN=mejores.fit_transform(trainP,target1)\n",
    "seleccionados=mejores.get_support(indices=True)\n",
    "print(trainP.columns[seleccionados])"
   ]
  },
  {
   "cell_type": "code",
   "execution_count": 28,
   "id": "2305aed9",
   "metadata": {},
   "outputs": [
    {
     "data": {
      "text/plain": [
       "<AxesSubplot:>"
      ]
     },
     "execution_count": 28,
     "metadata": {},
     "output_type": "execute_result"
    },
    {
     "data": {
      "image/png": "[encoded data removed]",
      "text/plain": [
       "<Figure size 432x288 with 2 Axes>"
      ]
     },
     "metadata": {
      "needs_background": "light"
     },
     "output_type": "display_data"
    }
   ],
   "source": [
    "used_features =trainP.columns[seleccionados]\n",
    " \n",
    "sns.heatmap(trainP[used_features].astype(float).corr(),linewidths=0.1,vmax=1.0, square=True, cmap=colormap, linecolor='white', annot=True)"
   ]
  },
  {
   "cell_type": "code",
   "execution_count": 29,
   "id": "1433a5f2",
   "metadata": {},
   "outputs": [],
   "source": [
    "from sklearn.model_selection import train_test_split\n",
    "X_train, X_test, y_train, y_test = train_test_split(trainP, target1, test_size=0.30, random_state=42)"
   ]
  },
  {
   "cell_type": "markdown",
   "id": "10163ee6",
   "metadata": {},
   "source": [
    "## Otros naives"
   ]
  },
  {
   "cell_type": "code",
   "execution_count": 31,
   "id": "bd3dd342",
   "metadata": {},
   "outputs": [],
   "source": [
    "from sklearn.model_selection import train_test_split\n",
    "X_train, X_test, y_train, y_test = train_test_split(trainP, target1, test_size=0.30, random_state=42)"
   ]
  },
  {
   "cell_type": "code",
   "execution_count": 32,
   "id": "08f627da",
   "metadata": {},
   "outputs": [
    {
     "data": {
      "text/plain": [
       "CategoricalNB()"
      ]
     },
     "execution_count": 32,
     "metadata": {},
     "output_type": "execute_result"
    }
   ],
   "source": [
    "from sklearn.naive_bayes import CategoricalNB\n",
    "clasificador2=CategoricalNB()\n",
    "clasificador2.fit(X_train,y_train)"
   ]
  },
  {
   "cell_type": "code",
   "execution_count": 33,
   "id": "5da9c856",
   "metadata": {},
   "outputs": [
    {
     "data": {
      "text/plain": [
       "0.3852327447833066"
      ]
     },
     "execution_count": 33,
     "metadata": {},
     "output_type": "execute_result"
    }
   ],
   "source": [
    "clasificador1.score(X_train,y_train)"
   ]
  },
  {
   "cell_type": "code",
   "execution_count": 34,
   "id": "09f759c7",
   "metadata": {},
   "outputs": [
    {
     "data": {
      "text/plain": [
       "0.4291044776119403"
      ]
     },
     "execution_count": 34,
     "metadata": {},
     "output_type": "execute_result"
    }
   ],
   "source": [
    "clasificador1.score(X_test,y_test)"
   ]
  },
  {
   "cell_type": "code",
   "execution_count": null,
   "id": "8b5bdae4",
   "metadata": {},
   "outputs": [],
   "source": []
  }
 ],
 "metadata": {
  "kernelspec": {
   "display_name": "Python 3",
   "language": "python",
   "name": "python3"
  },
  "language_info": {
   "codemirror_mode": {
    "name": "ipython",
    "version": 3
   },
   "file_extension": ".py",
   "mimetype": "text/x-python",
   "name": "python",
   "nbconvert_exporter": "python",
   "pygments_lexer": "ipython3",
   "version": "3.7.10"
  }
 },
 "nbformat": 4,
 "nbformat_minor": 5
}
